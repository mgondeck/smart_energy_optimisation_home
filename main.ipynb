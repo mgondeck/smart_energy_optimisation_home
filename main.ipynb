{
 "cells": [
  {
   "cell_type": "code",
   "execution_count": 39,
   "id": "ba2049e4-5dea-4084-b9d7-a9d07b982658",
   "metadata": {},
   "outputs": [],
   "source": [
    "# packages\n",
    "import os\n",
    "from pydrive.auth import GoogleAuth\n",
    "from pydrive.drive import GoogleDrive\n",
    "from dotenv import load_dotenv\n",
    "\n",
    "import pandas as pd\n",
    "from datetime import datetime\n",
    "import matplotlib.pyplot as plt\n",
    "\n",
    "from load_data import load_data"
   ]
  },
  {
   "cell_type": "code",
   "execution_count": 40,
   "id": "f63f30d0-85e8-49a7-94bd-6c2a47e6f527",
   "metadata": {},
   "outputs": [
    {
     "ename": "NameError",
     "evalue": "name 'load_dotenv' is not defined",
     "output_type": "error",
     "traceback": [
      "\u001b[0;31m---------------------------------------------------------------------------\u001b[0m",
      "\u001b[0;31mNameError\u001b[0m                                 Traceback (most recent call last)",
      "Cell \u001b[0;32mIn[40], line 1\u001b[0m\n\u001b[0;32m----> 1\u001b[0m df \u001b[38;5;241m=\u001b[39m \u001b[43mload_data\u001b[49m\u001b[43m(\u001b[49m\u001b[38;5;124;43m'\u001b[39;49m\u001b[38;5;124;43menergy_data_2023.csv\u001b[39;49m\u001b[38;5;124;43m'\u001b[39;49m\u001b[43m)\u001b[49m\n\u001b[1;32m      3\u001b[0m \u001b[38;5;28;01mif\u001b[39;00m df \u001b[38;5;129;01mis\u001b[39;00m \u001b[38;5;129;01mnot\u001b[39;00m \u001b[38;5;28;01mNone\u001b[39;00m:\n\u001b[1;32m      4\u001b[0m     \u001b[38;5;28mprint\u001b[39m(df\u001b[38;5;241m.\u001b[39mhead())\n",
      "File \u001b[0;32m~/Desktop/smart_energy_optimisation_home/load_data.py:3\u001b[0m, in \u001b[0;36mload_data\u001b[0;34m(file_name, sep)\u001b[0m\n\u001b[1;32m      1\u001b[0m \u001b[38;5;28;01mdef\u001b[39;00m \u001b[38;5;21mload_data\u001b[39m(file_name, sep \u001b[38;5;241m=\u001b[39m \u001b[38;5;124m'\u001b[39m\u001b[38;5;124m,\u001b[39m\u001b[38;5;124m'\u001b[39m):\n\u001b[1;32m      2\u001b[0m     \u001b[38;5;66;03m# load environment variables from .env file, get path to client_secrets.json from environment variable\u001b[39;00m\n\u001b[0;32m----> 3\u001b[0m     \u001b[43mload_dotenv\u001b[49m()\n\u001b[1;32m      4\u001b[0m     client_secrets_path \u001b[38;5;241m=\u001b[39m os\u001b[38;5;241m.\u001b[39mgetenv(\u001b[38;5;124m'\u001b[39m\u001b[38;5;124mGOOGLE_CLIENT_SECRETS\u001b[39m\u001b[38;5;124m'\u001b[39m)\n\u001b[1;32m      6\u001b[0m     \u001b[38;5;28;01mif\u001b[39;00m client_secrets_path \u001b[38;5;129;01mis\u001b[39;00m \u001b[38;5;28;01mNone\u001b[39;00m:\n",
      "\u001b[0;31mNameError\u001b[0m: name 'load_dotenv' is not defined"
     ]
    }
   ],
   "source": [
    "df = load_data('energy_data_2023.csv')\n",
    "\n",
    "if df is not None:\n",
    "    print(df.head())\n",
    "else:\n",
    "    print(\"Data not loaded.\")"
   ]
  },
  {
   "cell_type": "code",
   "execution_count": 22,
   "id": "85a6fd1c-476c-48e9-a726-f1ec8832ca2b",
   "metadata": {},
   "outputs": [
    {
     "name": "stdout",
     "output_type": "stream",
     "text": [
      "Title: energy_data_2023.csv, ID: 1XUq6rlt8a5bZKLMlJhCSgQrQzIKicyBA\n",
      "File downloaded successfully!\n",
      "             Datum / Uhrzeit  Netzbezug [W]  Netzeinspeisung [W]  \\\n",
      "0  01.01.2023 00:00:00 +0200          553.0                  0.0   \n",
      "1  01.01.2023 00:15:00 +0200          876.0                  0.0   \n",
      "2  01.01.2023 00:30:00 +0200          934.0                  0.0   \n",
      "3  01.01.2023 00:45:00 +0200          580.0                  0.0   \n",
      "4  01.01.2023 01:00:00 +0200          705.0                  0.0   \n",
      "\n",
      "   Erzeugung [W]  Speicher Beladung [W]  Speicher Entladung [W]  \\\n",
      "0            0.0                   23.0                     0.0   \n",
      "1            0.0                   23.0                     0.0   \n",
      "2            0.0                   23.0                     0.0   \n",
      "3            0.0                   23.0                     0.0   \n",
      "4            0.0                   22.0                     0.0   \n",
      "\n",
      "   Verbrauch [W]  Ladezustand [%]  \n",
      "0          525.0             10.0  \n",
      "1          851.0             10.0  \n",
      "2          908.0             10.0  \n",
      "3          561.0             10.0  \n",
      "4          684.0             10.0  \n"
     ]
    }
   ],
   "source": [
    "df.head()"
   ]
  },
  {
   "cell_type": "code",
   "execution_count": 23,
   "id": "d605936a-a0c6-4c17-a4da-353d9826076d",
   "metadata": {
    "tags": []
   },
   "outputs": [
    {
     "data": {
      "text/html": [
       "<div>\n",
       "<style scoped>\n",
       "    .dataframe tbody tr th:only-of-type {\n",
       "        vertical-align: middle;\n",
       "    }\n",
       "\n",
       "    .dataframe tbody tr th {\n",
       "        vertical-align: top;\n",
       "    }\n",
       "\n",
       "    .dataframe thead th {\n",
       "        text-align: right;\n",
       "    }\n",
       "</style>\n",
       "<table border=\"1\" class=\"dataframe\">\n",
       "  <thead>\n",
       "    <tr style=\"text-align: right;\">\n",
       "      <th></th>\n",
       "      <th>Datum / Uhrzeit</th>\n",
       "      <th>Netzbezug [W]</th>\n",
       "      <th>Netzeinspeisung [W]</th>\n",
       "      <th>Erzeugung [W]</th>\n",
       "      <th>Speicher Beladung [W]</th>\n",
       "      <th>Speicher Entladung [W]</th>\n",
       "      <th>Verbrauch [W]</th>\n",
       "      <th>Ladezustand [%]</th>\n",
       "    </tr>\n",
       "  </thead>\n",
       "  <tbody>\n",
       "    <tr>\n",
       "      <th>0</th>\n",
       "      <td>01.01.2023 00:00:00 +0200</td>\n",
       "      <td>553.0</td>\n",
       "      <td>0.0</td>\n",
       "      <td>0.0</td>\n",
       "      <td>23.0</td>\n",
       "      <td>0.0</td>\n",
       "      <td>525.0</td>\n",
       "      <td>10.0</td>\n",
       "    </tr>\n",
       "    <tr>\n",
       "      <th>1</th>\n",
       "      <td>01.01.2023 00:15:00 +0200</td>\n",
       "      <td>876.0</td>\n",
       "      <td>0.0</td>\n",
       "      <td>0.0</td>\n",
       "      <td>23.0</td>\n",
       "      <td>0.0</td>\n",
       "      <td>851.0</td>\n",
       "      <td>10.0</td>\n",
       "    </tr>\n",
       "    <tr>\n",
       "      <th>2</th>\n",
       "      <td>01.01.2023 00:30:00 +0200</td>\n",
       "      <td>934.0</td>\n",
       "      <td>0.0</td>\n",
       "      <td>0.0</td>\n",
       "      <td>23.0</td>\n",
       "      <td>0.0</td>\n",
       "      <td>908.0</td>\n",
       "      <td>10.0</td>\n",
       "    </tr>\n",
       "    <tr>\n",
       "      <th>3</th>\n",
       "      <td>01.01.2023 00:45:00 +0200</td>\n",
       "      <td>580.0</td>\n",
       "      <td>0.0</td>\n",
       "      <td>0.0</td>\n",
       "      <td>23.0</td>\n",
       "      <td>0.0</td>\n",
       "      <td>561.0</td>\n",
       "      <td>10.0</td>\n",
       "    </tr>\n",
       "    <tr>\n",
       "      <th>4</th>\n",
       "      <td>01.01.2023 01:00:00 +0200</td>\n",
       "      <td>705.0</td>\n",
       "      <td>0.0</td>\n",
       "      <td>0.0</td>\n",
       "      <td>22.0</td>\n",
       "      <td>0.0</td>\n",
       "      <td>684.0</td>\n",
       "      <td>10.0</td>\n",
       "    </tr>\n",
       "  </tbody>\n",
       "</table>\n",
       "</div>"
      ],
      "text/plain": [
       "             Datum / Uhrzeit  Netzbezug [W]  Netzeinspeisung [W]  \\\n",
       "0  01.01.2023 00:00:00 +0200          553.0                  0.0   \n",
       "1  01.01.2023 00:15:00 +0200          876.0                  0.0   \n",
       "2  01.01.2023 00:30:00 +0200          934.0                  0.0   \n",
       "3  01.01.2023 00:45:00 +0200          580.0                  0.0   \n",
       "4  01.01.2023 01:00:00 +0200          705.0                  0.0   \n",
       "\n",
       "   Erzeugung [W]  Speicher Beladung [W]  Speicher Entladung [W]  \\\n",
       "0            0.0                   23.0                     0.0   \n",
       "1            0.0                   23.0                     0.0   \n",
       "2            0.0                   23.0                     0.0   \n",
       "3            0.0                   23.0                     0.0   \n",
       "4            0.0                   22.0                     0.0   \n",
       "\n",
       "   Verbrauch [W]  Ladezustand [%]  \n",
       "0          525.0             10.0  \n",
       "1          851.0             10.0  \n",
       "2          908.0             10.0  \n",
       "3          561.0             10.0  \n",
       "4          684.0             10.0  "
      ]
     },
     "execution_count": 23,
     "metadata": {},
     "output_type": "execute_result"
    }
   ],
   "source": [
    "df.head()"
   ]
  },
  {
   "cell_type": "code",
   "execution_count": null,
   "id": "7e1844c5-e8ab-4380-b826-b1a17bca2429",
   "metadata": {},
   "outputs": [],
   "source": []
  }
 ],
 "metadata": {
  "kernelspec": {
   "display_name": "Python 3 (ipykernel)",
   "language": "python",
   "name": "python3"
  },
  "language_info": {
   "codemirror_mode": {
    "name": "ipython",
    "version": 3
   },
   "file_extension": ".py",
   "mimetype": "text/x-python",
   "name": "python",
   "nbconvert_exporter": "python",
   "pygments_lexer": "ipython3",
   "version": "3.11.5"
  }
 },
 "nbformat": 4,
 "nbformat_minor": 5
}
